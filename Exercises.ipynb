{
 "cells": [
  {
   "cell_type": "markdown",
   "id": "e7338b07",
   "metadata": {
    "deletable": false,
    "editable": false,
    "tags": []
   },
   "source": [
    "# Exercise Notebook\n",
    "\n",
    "This notebook will guide you through using Python libraries to analyse a data set, visualize relevant information, and build a predictive model.\n",
    "\n",
    "### General how-to:\n",
    "\n",
    "- Your files are visible on the right in the **File Browser** tab. You can even open the data files.\n",
    "- Change to the <img src=\"https://img.icons8.com/material-outlined/344/list.png\" width=15 height=15 /> tab to see the **table of contents** for the notebook. Now you jump between sections/exercises if you need to.\n",
    "- Every exercise has an **answer cell** for you to write your answer in (`# your code here`). There is an ellipsis (**...**) wherever you need to complete a command.\n",
    "- Every exercise has a cell with a correct solution. The **solution cell** is collapsed and not visible until you click on the ellipsis symbol <img src=\"https://img.icons8.com/ios-filled/344/ellipsis.png\" width=20 height=15 />  below the answer cell. After checking your solution, you can collapse the cell again by clicking on the blue vertical line on the right.\n",
    "- If you can't think of the solution immediately, you have **a few options**:\n",
    "    - Trial and error (best option)\n",
    "    - Google search (e.g. 'pandas replace nan values')\n",
    "    - Copy from the intro notebook (easiest, but might fail sometimes)\n"
   ]
  },
  {
   "cell_type": "code",
   "execution_count": null,
   "id": "85bbefc6",
   "metadata": {
    "deletable": false,
    "editable": false,
    "tags": []
   },
   "outputs": [],
   "source": [
    "# Importing the most important libraries\n",
    "\n",
    "import pandas as pd\n",
    "import numpy as np\n",
    "import matplotlib.pyplot as plt\n",
    "import seaborn as sns\n",
    "\n",
    "%matplotlib inline\n",
    "sns.set_theme()"
   ]
  },
  {
   "cell_type": "code",
   "execution_count": null,
   "id": "e40e74b8",
   "metadata": {
    "deletable": false,
    "editable": false,
    "jupyter": {
     "source_hidden": true
    },
    "tags": []
   },
   "outputs": [],
   "source": [
    "# Table formatting\n",
    "\n",
    "from IPython.display import display, HTML\n",
    "display(HTML(\"<style>.container { width:60% !important; margin: 0 auto; }}</style>\"))"
   ]
  },
  {
   "cell_type": "markdown",
   "id": "4997f3af",
   "metadata": {
    "deletable": false,
    "editable": false,
    "tags": []
   },
   "source": [
    "<img src=\"https://user-images.githubusercontent.com/7065401/52071924-c003ad80-2562-11e9-8297-1c6595f8a7ff.png\" width=2000/>"
   ]
  },
  {
   "cell_type": "markdown",
   "id": "7a6d3cc0",
   "metadata": {
    "deletable": false,
    "editable": false,
    "heading_collapsed": true,
    "tags": []
   },
   "source": [
    "## 1. Features"
   ]
  },
  {
   "cell_type": "markdown",
   "id": "54f30bee",
   "metadata": {
    "deletable": false,
    "editable": false,
    "hidden": true,
    "tags": []
   },
   "source": [
    "The data you will work with consists of Portuguese students' profiles and their language course marks. [Source](https://www.kaggle.com/datasets/impapan/student-performance-data-set).  [License](https://creativecommons.org/licenses/by/4.0/)\n",
    "\n",
    "There are 30 attributes, or **features**, available per student:\n",
    "\n",
    "Feature ID| Feature Name |Description | Type | Values\n",
    "--|-----|-----|----|---\n",
    "1 | school | school name | binary | \"GP\" - Gabriel Pereira or \"MS\" - Mousinho da Silveira\n",
    "2 | sex | student's sex | binary | \"F\" - female or \"M\" - male\n",
    "3 | age | student's age | numeric| from 15 to 22\n",
    "4 | address | home address type | binary | \"U\" - urban or \"R\" - rural\n",
    "5 | famsize | family size | binary | \"LE3\" - less or equal to 3 or \"GT3\" - greater than 3\n",
    "6 | Pstatus | parent's cohabitation status | binary| \"T\" - living together or \"A\" - apart\n",
    "7 | Medu | mother's education |numeric | 0 - none,  1 - 4th grade, 2 – 5th to 9th grade, 3 – secondary education or 4 – higher education\n",
    "8 | Fedu | father's education |numeric | 0 - none,  1 - 4th grade, 2 – 5th to 9th grade, 3 – secondary education or 4 – higher education\n",
    "9 | Mjob | mother's job area |categorical | \"teacher\", \"health\", \"services\" (e.g. administrative or police), \"at_home\" or \"other\"\n",
    "10 | Fjob | father's job area |categorical | \"teacher\", \"health\", \"services\" (e.g. administrative or police), \"at_home\" or \"other\"\n",
    "11 | reason | reason to choose this school | categorical | close to \"home\", school \"reputation\", \"course\" preference or \"other\"\n",
    "12 |guardian | student's guardian | categorical | \"mother\", \"father\" or \"other\"\n",
    "13 |traveltime | home to school travel time |numeric| 1 - <15 min., 2 - 15 to 30 min., 3 - 30 min. to 1 hour, or 4 - >1 hour\n",
    "14 |studytime | weekly study time | numeric| 1 - <2 hours, 2 - 2 to 5 hours, 3 - 5 to 10 hours, or 4 - >10 hours\n",
    "15 |failures | number of past class failures |numeric| n if 1<=n<3, else 4\n",
    "16 |schoolsup | extra educational support |binary| yes or no\n",
    "17 |famsup | family educational support |binary| yes or no\n",
    "18 |paid | extra paid classes in Math |binary| yes or no\n",
    "19 |activities| extra-curricular activities |binary| yes or no\n",
    "20 |nursery | attended nursery school|binary| yes or no\n",
    "21 |higher | wants to take higher education |binary| yes or no\n",
    "22 |internet | Internet access at home |binary| yes or no\n",
    "23 |romantic | with a romantic relationship |binary| yes or no\n",
    "24 |famrel | quality of family relationships |numeric| from 1 - very bad to 5 - excellent\n",
    "25 |freetime | free time after school |numeric| from 1 - very low to 5 - very high\n",
    "26 |goout | going out with friends |numeric| from 1 - very low to 5 - very high\n",
    "27 |Dalc|  workday alcohol consumption |numeric| from 1 - very low to 5 - very high\n",
    "28 |Walc|  weekend alcohol consumption |numeric| from 1 - very low to 5 - very high\n",
    "29 |health | current health status |numeric| from 1 - very bad to 5 - very good\n",
    "30 |absences | number of school absences |numeric| from 0 to 93\n",
    "\n"
   ]
  },
  {
   "cell_type": "markdown",
   "id": "f4e5c470",
   "metadata": {
    "deletable": false,
    "editable": false,
    "heading_collapsed": true,
    "tags": []
   },
   "source": [
    "## 2. Target variables"
   ]
  },
  {
   "cell_type": "markdown",
   "id": "cf0db55f",
   "metadata": {
    "deletable": false,
    "editable": false,
    "hidden": true,
    "tags": []
   },
   "source": [
    "Target variables are what we want to predict, using the features defined above. They are also called labels.\n",
    "\n",
    "In our data set, we have one target variable given, which represents the students' final mark in Portuguese.\n",
    "\n",
    "Feature ID| Feature Name |Description | Type | Values\n",
    "--|-----|-----|----|---\n",
    "31 | G3 | final grade | numeric | from 0 to 20\n",
    "\n",
    "In reality, target variables are something arbitrary. For example in this data set, we could also try predicting any one of the features, for example whether the student wants to go to university (feature `higher`) or not."
   ]
  },
  {
   "cell_type": "markdown",
   "id": "ade28e25-1f2a-4e8a-93f4-9a4b6c43c0f7",
   "metadata": {
    "deletable": false,
    "editable": false,
    "tags": []
   },
   "source": [
    "<img src=\"https://user-images.githubusercontent.com/7065401/52071924-c003ad80-2562-11e9-8297-1c6595f8a7ff.png\" width=2000/>"
   ]
  },
  {
   "cell_type": "markdown",
   "id": "b66aabf4",
   "metadata": {
    "deletable": false,
    "editable": false,
    "tags": [],
    "toc-hr-collapsed": true
   },
   "source": [
    "## 3. Data Loading and Basic Statistics"
   ]
  },
  {
   "cell_type": "markdown",
   "id": "d6d80f95",
   "metadata": {
    "deletable": false,
    "editable": false,
    "tags": []
   },
   "source": [
    "### 3.1. **Exercise:** Loading the data\n",
    "\n",
    "Load the data from the given `csv` file and print it."
   ]
  },
  {
   "cell_type": "code",
   "execution_count": null,
   "id": "b1feb27c",
   "metadata": {
    "tags": []
   },
   "outputs": [],
   "source": [
    "data_path = 'Data/student-por.csv'\n",
    "\n",
    "# your code here\n",
    "student_data = ..."
   ]
  },
  {
   "cell_type": "raw",
   "id": "80ee89cf-1c8b-4df1-a476-260b9b3f6e2f",
   "metadata": {
    "deletable": false,
    "editable": false,
    "executable": false,
    "jupyter": {
     "source_hidden": true
    },
    "tags": []
   },
   "source": [
    "data_path = 'Data/student-por.csv'\n",
    "\n",
    "student_data = pd.read_csv(data_path)"
   ]
  },
  {
   "cell_type": "code",
   "execution_count": null,
   "id": "30586896",
   "metadata": {
    "tags": []
   },
   "outputs": [],
   "source": [
    "student_data"
   ]
  },
  {
   "cell_type": "markdown",
   "id": "e8d081a8-77b5-4405-9789-8188ce4e307d",
   "metadata": {
    "deletable": false,
    "editable": false,
    "tags": []
   },
   "source": [
    "____________________"
   ]
  },
  {
   "cell_type": "markdown",
   "id": "bc4047bb-a650-4896-abb5-847a98cfffe3",
   "metadata": {
    "deletable": false,
    "editable": false,
    "tags": []
   },
   "source": [
    "### 3.2. **Exercise:** Data summary\n",
    "\n",
    "Print a summary of the dataset's columns along with data types and memory usage."
   ]
  },
  {
   "cell_type": "code",
   "execution_count": null,
   "id": "4f46002d-1549-4b31-9ba4-5196d8dac8ae",
   "metadata": {},
   "outputs": [],
   "source": [
    "# your code here\n"
   ]
  },
  {
   "cell_type": "raw",
   "id": "77c9f10e-a21e-41d8-8b86-eede23b42a0b",
   "metadata": {
    "deletable": false,
    "editable": false,
    "jupyter": {
     "source_hidden": true
    },
    "tags": []
   },
   "source": [
    "student_data.info()"
   ]
  },
  {
   "cell_type": "markdown",
   "id": "528421ac-3e7c-4b68-b4d7-071209a595e0",
   "metadata": {
    "deletable": false,
    "editable": false,
    "tags": []
   },
   "source": [
    "__________________"
   ]
  },
  {
   "cell_type": "markdown",
   "id": "9ab28b02-6485-4c6d-8f70-c779ca9ad786",
   "metadata": {
    "deletable": false,
    "editable": false,
    "tags": []
   },
   "source": [
    "### 3.3. **Exercise:** Feature statistics\n",
    "\n",
    "Print a (separate) statistical summary for the columns `reason` and `G3`. \n",
    "\n",
    "- Why are the outputs different? \n",
    "- Write some notes/speculate about what you see (if you want)."
   ]
  },
  {
   "cell_type": "code",
   "execution_count": null,
   "id": "1fe42f51-f4ce-4a94-8a05-aa2803dcf1cc",
   "metadata": {},
   "outputs": [],
   "source": [
    "# your code here - reason\n"
   ]
  },
  {
   "cell_type": "raw",
   "id": "256409ce-9a1b-47e3-90c5-cd54349066bf",
   "metadata": {
    "deletable": false,
    "editable": false,
    "jupyter": {
     "source_hidden": true
    },
    "tags": []
   },
   "source": [
    "student_data['reason'].describe()"
   ]
  },
  {
   "cell_type": "code",
   "execution_count": null,
   "id": "ab9cec24-6af7-4eaa-aa56-889c4d04fad4",
   "metadata": {
    "tags": []
   },
   "outputs": [],
   "source": [
    "# your code here - G3\n"
   ]
  },
  {
   "cell_type": "raw",
   "id": "864944a5-27de-4ac8-9202-51ec0b86a5f5",
   "metadata": {
    "deletable": false,
    "editable": false,
    "jupyter": {
     "source_hidden": true
    },
    "tags": []
   },
   "source": [
    "student_data['G3'].describe()"
   ]
  },
  {
   "cell_type": "markdown",
   "id": "3420274e-19e2-4082-b6c4-60644b6bad7b",
   "metadata": {
    "tags": []
   },
   "source": [
    "- Different count\n",
    "- Mean grade is 11.9\n",
    "- ...\n",
    "\n",
    "\n",
    "-------------"
   ]
  },
  {
   "cell_type": "markdown",
   "id": "47cd90a7-5e7e-405e-913e-d1049fa1f583",
   "metadata": {
    "deletable": false,
    "editable": false,
    "tags": []
   },
   "source": [
    "### 3.4. **Exercise:** Feature distributions\n",
    "\n",
    "Visualize the feature distributions for the feature `reason` and the target `G3`.\n",
    " - Use a [count plot](https://seaborn.pydata.org/generated/seaborn.countplot.html) for `reason` and a [histogram plot](https://seaborn.pydata.org/generated/seaborn.histplot.html) (optionally with KDE) for `G3`. "
   ]
  },
  {
   "cell_type": "code",
   "execution_count": null,
   "id": "0300ff34-8e3f-4790-8f97-5942b7775b32",
   "metadata": {},
   "outputs": [],
   "source": [
    "# your code here - reason\n"
   ]
  },
  {
   "cell_type": "raw",
   "id": "9c70ed9e-23c1-4751-8500-5136ef86072d",
   "metadata": {
    "deletable": false,
    "editable": false,
    "jupyter": {
     "source_hidden": true
    },
    "tags": []
   },
   "source": [
    "sns.countplot(data=student_data, x='reason')"
   ]
  },
  {
   "cell_type": "markdown",
   "id": "b27d7198-b929-4678-9ea0-fccc51f0ebdd",
   "metadata": {
    "deletable": false,
    "editable": false,
    "tags": []
   },
   "source": [
    "Most of the students chose their school based on their course preference."
   ]
  },
  {
   "cell_type": "code",
   "execution_count": null,
   "id": "31fe8e13-cd74-4933-bcad-22327f47d35d",
   "metadata": {},
   "outputs": [],
   "source": [
    "# your code here - G3\n"
   ]
  },
  {
   "cell_type": "raw",
   "id": "ed12214e-ba98-434d-8301-8d2aa768b43c",
   "metadata": {
    "deletable": false,
    "editable": false,
    "jupyter": {
     "source_hidden": true
    },
    "tags": []
   },
   "source": [
    "sns.histplot(data=student_data, x='G3', kde=True)"
   ]
  },
  {
   "cell_type": "markdown",
   "id": "7dce0a44-c6bb-4f11-8ab5-a879e7e51ada",
   "metadata": {
    "deletable": false,
    "editable": false,
    "tags": []
   },
   "source": [
    "We can see that most students had average grades, with a few failing (grade 0).\n",
    "\n",
    "Feel free to plot some other features - just insert some cells below with the 5th symbol on the upper right and have fun with it :)"
   ]
  },
  {
   "cell_type": "markdown",
   "id": "f9c82a53-4be2-492b-89e3-be0c2d7d1560",
   "metadata": {
    "deletable": false,
    "editable": false,
    "tags": []
   },
   "source": [
    "<img src=\"https://user-images.githubusercontent.com/7065401/52071924-c003ad80-2562-11e9-8297-1c6595f8a7ff.png\" width=2000/>"
   ]
  },
  {
   "cell_type": "markdown",
   "id": "b1a632c6-a386-4227-a0de-2b41d58e3e6b",
   "metadata": {
    "deletable": false,
    "editable": false,
    "tags": [],
    "toc-hr-collapsed": true
   },
   "source": [
    "## 4. Data Exploration\n",
    "\n",
    "In this section you will try out different visualizations to represent the data. \n",
    "The exercises are stated as questions to give you an idea of the flexibility of data analysis."
   ]
  },
  {
   "cell_type": "markdown",
   "id": "9b502c03-911e-4d66-863c-0ce44d13c4a8",
   "metadata": {
    "deletable": false,
    "editable": false,
    "tags": []
   },
   "source": [
    "### 4.1. **Exercise:** Performance per school\n",
    "\n",
    "**Do students from one school have higher grades (`G3`) on average than students of the other school?**\n",
    "\n",
    "- Use a box plot or a violin plot to answer the question.\n",
    "- Advanced: Separate students by gender as well, using the `hue=` parameter."
   ]
  },
  {
   "cell_type": "code",
   "execution_count": null,
   "id": "b813b41d-b221-4178-8792-eab3df159fa6",
   "metadata": {},
   "outputs": [],
   "source": [
    "# your code here\n"
   ]
  },
  {
   "cell_type": "raw",
   "id": "a5d28b5d-ca7d-4f85-adfb-1073adc1fd36",
   "metadata": {
    "deletable": false,
    "editable": false,
    "jupyter": {
     "source_hidden": true
    },
    "tags": []
   },
   "source": [
    "sns.boxplot(data=student_data, x=\"school\", y=\"G3\")                \n",
    "sns.boxplot(data=student_data, x=\"school\", y=\"G3\", hue='sex')     # Advanced"
   ]
  },
  {
   "cell_type": "markdown",
   "id": "214642ac-256d-4783-94ac-adb43b09ab73",
   "metadata": {
    "deletable": false,
    "editable": false,
    "tags": []
   },
   "source": [
    "It seems like students from the GP school have a higher grade average than students attending MS.\n",
    "\n",
    "______________"
   ]
  },
  {
   "cell_type": "markdown",
   "id": "8456ae2c-08b9-4813-8cfa-dd1d6623ba3a",
   "metadata": {
    "deletable": false,
    "editable": false,
    "tags": []
   },
   "source": [
    "### 4.2. **Exercise:** Relationship status\n",
    "\n",
    "**Does being in a relationship affect a student's grades?**\n",
    "\n",
    "- Use a box plot or a violin plot to answer the question.\n",
    "- Advanced: Separate students by gender as well, using the `hue=` parameter."
   ]
  },
  {
   "cell_type": "code",
   "execution_count": null,
   "id": "d8997ac5-a367-4a38-9b1e-e61fc76d2bb8",
   "metadata": {},
   "outputs": [],
   "source": [
    "# your code here\n"
   ]
  },
  {
   "cell_type": "raw",
   "id": "6a2c1ddc-6e16-4b42-bb94-769a45facdcf",
   "metadata": {
    "deletable": false,
    "editable": false,
    "jupyter": {
     "source_hidden": true
    },
    "tags": []
   },
   "source": [
    "sns.boxplot(data=student_data, x=\"romantic\", y=\"G3\")                \n",
    "sns.boxplot(data=student_data, x=\"romantic\", y=\"G3\", hue='sex')     # Advanced"
   ]
  },
  {
   "cell_type": "markdown",
   "id": "395af310-923d-43ad-b6d0-a4cac5e9e886",
   "metadata": {
    "deletable": false,
    "editable": false,
    "tags": []
   },
   "source": [
    "The student's relationship status seems to have little effect on his/her performance in school.\n",
    "\n",
    "_______________________"
   ]
  },
  {
   "cell_type": "markdown",
   "id": "bd326d0a-c2d4-4a96-b0ff-c923da5bc9bc",
   "metadata": {
    "deletable": false,
    "editable": false,
    "tags": []
   },
   "source": [
    "### 4.3. **Exercise:** Failures\n",
    "\n",
    "**How does the expected performance change depending on the number of previous failures?**\n",
    "\n",
    "- Use a [point plot](https://seaborn.pydata.org/generated/seaborn.pointplot.html) to better see the general trend or a [violin plot](https://seaborn.pydata.org/generated/seaborn.violinplot.html) to compare distributions in detail.\n",
    "- Advanced: Separate students by school as well, using the `hue=` parameter. Set `dodge=True` or `split=True` for better visibility."
   ]
  },
  {
   "cell_type": "code",
   "execution_count": null,
   "id": "268d81eb-cad1-4098-b7e9-8c7d42dfd313",
   "metadata": {},
   "outputs": [],
   "source": [
    "# your code here\n"
   ]
  },
  {
   "cell_type": "raw",
   "id": "5a1cf08a-570a-47cf-8a4e-9bdde54b0d1c",
   "metadata": {
    "deletable": false,
    "editable": false,
    "jupyter": {
     "source_hidden": true
    },
    "tags": []
   },
   "source": [
    "sns.pointplot(x='failures', y='G3', data=student_data)                  \n",
    "sns.pointplot(x='failures', y='G3', data=student_data, hue='school', dodge=True)   # Advanced\n",
    "\n",
    "sns.violinplot(x='failures', y='G3', data=student_data)                  \n",
    "sns.violinplot(x='failures', y='G3', data=student_data, hue='school', split=True)   # Advanced"
   ]
  },
  {
   "cell_type": "markdown",
   "id": "33771dfa-d943-460b-8780-a9106546dcdc",
   "metadata": {
    "deletable": false,
    "editable": false,
    "tags": []
   },
   "source": [
    "Students that have failed the course before have much lower average grades. Then again, here it is also important to look at how many students have failed 1 or more times:"
   ]
  },
  {
   "cell_type": "code",
   "execution_count": null,
   "id": "808b976f-c7e7-4ec0-a5ea-db031a13240f",
   "metadata": {},
   "outputs": [],
   "source": [
    "sns.countplot(x='failures', data=student_data)"
   ]
  },
  {
   "cell_type": "markdown",
   "id": "e522a9d5-32c3-4de0-b0a3-66ca20aacc5a",
   "metadata": {
    "deletable": false,
    "editable": false,
    "tags": []
   },
   "source": [
    "Since the students that have failed the course in the past are a very small number, the confidence intervals in the point plot are very large, which means there is higher uncertainty about the truth of the statistic.\n",
    "\n",
    "___________________"
   ]
  },
  {
   "cell_type": "markdown",
   "id": "5a45f149-5400-45c2-b253-e5875cb22917",
   "metadata": {
    "deletable": false,
    "editable": false,
    "tags": []
   },
   "source": [
    "### 4.4. **Exercise:** Study time\n",
    "\n",
    "**How does the expected performance (`G3`) change depending (reported) study time?**\n",
    "\n",
    "- Use a [cat plot](https://seaborn.pydata.org/generated/seaborn.catplot.html) to show point plots (`kind='point'`) and separate by school (`col='school'`) and sex (`hue='sex'`).\n",
    "- Set `dodge=True` for better visibility."
   ]
  },
  {
   "cell_type": "code",
   "execution_count": null,
   "id": "0d88ef40-f0a2-425e-aa34-24f571a0fea2",
   "metadata": {},
   "outputs": [],
   "source": [
    "# your code here\n"
   ]
  },
  {
   "cell_type": "raw",
   "id": "551ccaaf-fff2-4f33-b007-91f100312442",
   "metadata": {
    "deletable": false,
    "editable": false,
    "jupyter": {
     "source_hidden": true
    },
    "tags": []
   },
   "source": [
    "sns.catplot(x='studytime', y='G3', data=student_data, \n",
    "            kind='point', hue='sex', col='school', dodge=True)"
   ]
  },
  {
   "cell_type": "markdown",
   "id": "84e219ea-daf0-447a-a3de-8d5be55f8eb7",
   "metadata": {
    "deletable": false,
    "editable": false,
    "tags": []
   },
   "source": [
    "We observe the expected increase in performance with longer study times, but it's interesting to see that male students' grades dropped when studying more than 10 hours per week (category 4).\n",
    "\n",
    "<img src=\"https://user-images.githubusercontent.com/7065401/52071924-c003ad80-2562-11e9-8297-1c6595f8a7ff.png\" width=2000/>"
   ]
  },
  {
   "cell_type": "markdown",
   "id": "7f42bf08-b586-4f43-887f-969fbd6acf25",
   "metadata": {
    "deletable": false,
    "editable": false,
    "tags": [],
    "toc-hr-collapsed": true
   },
   "source": [
    "## 5. Data Transformation\n",
    "\n",
    "In this section we will transform some features. There is a single exercise with multiple parts."
   ]
  },
  {
   "cell_type": "markdown",
   "id": "46fe3186-1704-4d8f-a9a7-725ccbf012db",
   "metadata": {
    "deletable": false,
    "editable": false,
    "tags": []
   },
   "source": [
    "### 5.1. **Exercise:** Numerical to binary\n",
    "\n",
    "**Transform the numerical 'absences' attribute into a binary attribute 'was_absent' which is set to `yes` if the student was absent more than 7 days and `no` otherwise.**\n",
    "\n",
    "First, let's **visualize** the `absences` attribute. Use whatever plot you want."
   ]
  },
  {
   "cell_type": "code",
   "execution_count": null,
   "id": "7ccfcdde-d1bf-4086-a876-532348dfdead",
   "metadata": {},
   "outputs": [],
   "source": [
    "# your code here\n"
   ]
  },
  {
   "cell_type": "raw",
   "id": "cacb0a74-9f04-4f36-aaed-65abf8f4b6ce",
   "metadata": {
    "deletable": false,
    "editable": false,
    "jupyter": {
     "source_hidden": true
    },
    "tags": []
   },
   "source": [
    "sns.histplot(x='absences', data=student_data, kde=True)    # example solution"
   ]
  },
  {
   "cell_type": "markdown",
   "id": "0e70a322-fded-4f16-a555-2752a276bcfd",
   "metadata": {
    "deletable": false,
    "editable": false,
    "tags": []
   },
   "source": [
    "We can see that most of the students had no absences or 1 absence.  \n",
    "\n",
    "**Create** the data for the new `was_absent` column using `np.where(condition, value_if_true, value_if_false)`."
   ]
  },
  {
   "cell_type": "code",
   "execution_count": null,
   "id": "20f0bb7b-8b98-487a-8816-ee76bc2f4cdd",
   "metadata": {},
   "outputs": [],
   "source": [
    "# your code here\n",
    "\n",
    "was_absent = ..."
   ]
  },
  {
   "cell_type": "raw",
   "id": "2e66fb10-3feb-4680-acdc-5e14d1e2ac07",
   "metadata": {
    "deletable": false,
    "editable": false,
    "jupyter": {
     "source_hidden": true
    },
    "tags": []
   },
   "source": [
    "was_absent = np.where(student_data['absences'] > 7, 'yes', 'no')"
   ]
  },
  {
   "cell_type": "code",
   "execution_count": null,
   "id": "08eeac7b-7d5a-46e1-8f7b-5903df755e0e",
   "metadata": {
    "tags": []
   },
   "outputs": [],
   "source": [
    "was_absent   # should be an array of yes/no strings"
   ]
  },
  {
   "cell_type": "markdown",
   "id": "49d639cd-e541-43e9-9393-8034712f1236",
   "metadata": {
    "deletable": false,
    "editable": false,
    "tags": []
   },
   "source": [
    "Add the array as a **new column** `was_absent` in the data set."
   ]
  },
  {
   "cell_type": "code",
   "execution_count": null,
   "id": "3cab2e8f-44ed-4e09-9b50-091cf14abba7",
   "metadata": {},
   "outputs": [],
   "source": [
    "# your code here\n"
   ]
  },
  {
   "cell_type": "raw",
   "id": "ee2151e3-c2e7-4b56-8fd1-1c29c93c11ff",
   "metadata": {
    "deletable": false,
    "editable": false,
    "jupyter": {
     "source_hidden": true
    },
    "tags": []
   },
   "source": [
    "student_data['was_absent'] = was_absent"
   ]
  },
  {
   "cell_type": "code",
   "execution_count": null,
   "id": "52d5b225-1b62-4277-b201-1ec8d04a9551",
   "metadata": {},
   "outputs": [],
   "source": [
    "student_data.head()  # the last column should be was_absent"
   ]
  },
  {
   "cell_type": "markdown",
   "id": "7895b131-f359-41f4-ae8c-393c33a361a7",
   "metadata": {},
   "source": [
    "Finally, let's **visualize** the grade distribution of the new feature `was_absent`. Use whatever plot you want."
   ]
  },
  {
   "cell_type": "code",
   "execution_count": null,
   "id": "676d34a0-4451-4cbe-a267-c07b46a02902",
   "metadata": {},
   "outputs": [],
   "source": [
    "# your code here\n"
   ]
  },
  {
   "cell_type": "raw",
   "id": "3f59c5af-f15d-4ca3-ba4f-0b17e5b9ebcf",
   "metadata": {
    "deletable": false,
    "editable": false,
    "jupyter": {
     "source_hidden": true
    },
    "tags": []
   },
   "source": [
    "sns.boxplot(x='was_absent', y='G3', data=student_data)"
   ]
  },
  {
   "cell_type": "markdown",
   "id": "6775eb72-6596-4685-b22f-831ce8fbfadc",
   "metadata": {
    "deletable": false,
    "editable": false,
    "tags": []
   },
   "source": [
    "Great! Now the `absences` column is redundant, so let's **remove** it using `.drop()`. Remember to set the `axis` parameter correctly."
   ]
  },
  {
   "cell_type": "code",
   "execution_count": null,
   "id": "5b1308b8-9e2a-4809-87ce-6079c0b28dc3",
   "metadata": {},
   "outputs": [],
   "source": [
    "# your code here\n",
    "\n",
    "student_data = ..."
   ]
  },
  {
   "cell_type": "raw",
   "id": "410698b5-1b6d-4599-956f-be7c6e36a336",
   "metadata": {
    "deletable": false,
    "editable": false,
    "jupyter": {
     "source_hidden": true
    },
    "tags": []
   },
   "source": [
    "student_data = student_data.drop('absences', axis=1)"
   ]
  },
  {
   "cell_type": "code",
   "execution_count": null,
   "id": "3fa13711-a000-4842-af17-4757f9414902",
   "metadata": {
    "tags": []
   },
   "outputs": [],
   "source": [
    "student_data.head()    # the absences column should be gone"
   ]
  },
  {
   "cell_type": "markdown",
   "id": "aaee854c-2b9b-4281-8ef2-b27c8cb6ee59",
   "metadata": {
    "deletable": false,
    "editable": false,
    "tags": []
   },
   "source": [
    "<img src=\"https://user-images.githubusercontent.com/7065401/52071924-c003ad80-2562-11e9-8297-1c6595f8a7ff.png\" width=2000/>"
   ]
  },
  {
   "cell_type": "markdown",
   "id": "7a3933d5-fdb7-4c71-8120-e7546fb4ddc0",
   "metadata": {
    "deletable": false,
    "editable": false,
    "tags": [],
    "toc-hr-collapsed": true
   },
   "source": [
    "## 6. Data Cleaning\n",
    "\n",
    "Handling missing data is an important part of data analysis and machine learning. Algorithms don't usually know how to deal with missing values, so this preparation step is essential."
   ]
  },
  {
   "cell_type": "markdown",
   "id": "13342bb4-af65-4683-8c42-a6ad99c7bdee",
   "metadata": {
    "deletable": false,
    "editable": false,
    "tags": []
   },
   "source": [
    "### 6.1. **Exercise:** Handling missing values\n",
    "\n",
    "**Show the number of missing values per column.**\n",
    "\n",
    "- The `.isna()` function gives a boolean DataFrame, where each cell tells us whether that cell in the original DataFrame contains a NaN value. \n",
    "- Hint: You can chain functions! "
   ]
  },
  {
   "cell_type": "code",
   "execution_count": null,
   "id": "d1881510-1fb8-4748-bdcc-ea3465bfe5fa",
   "metadata": {},
   "outputs": [],
   "source": [
    "# your code here\n"
   ]
  },
  {
   "cell_type": "raw",
   "id": "d6cccaa8-722e-48ea-96f2-f8672ff43be1",
   "metadata": {
    "deletable": false,
    "editable": false,
    "jupyter": {
     "source_hidden": true
    },
    "tags": []
   },
   "source": [
    "student_data.isna().sum()"
   ]
  },
  {
   "cell_type": "markdown",
   "id": "8e35483b-d4f2-4411-b637-80b7d3174fc3",
   "metadata": {
    "deletable": false,
    "editable": false,
    "tags": []
   },
   "source": [
    "We see that the missing values are in the columns `Mjob`, `Fjob`, `paid` and `romantic`. We can handle them by:\n",
    "\n",
    "- Deleting the entries containing missing values -> Since our data set is pretty small (~650 students), deleting >188 entries is a bad idea.\n",
    "- Deleting the columns containing missing values -> For the columns with a lot of missing values, this is optimal.\n",
    "- Imputation (replacing the NaN value with e.g. the mean value) -> We have categorical features, so not really an option. Taking the most common category could introduce a lot of noise.\n",
    "- Replacing the value with a dummy value, e.g. `unknown` -> Could work if the students with NaN values have a different grade distribution. (That's not the case here, trust me.)\n",
    "\n",
    "So, deleting it is. Drop the columns with `NaN` values. Make sure to set the correct `axis`."
   ]
  },
  {
   "cell_type": "code",
   "execution_count": null,
   "id": "be33d0f5-3ac3-4fdd-b52e-e2be53dc9386",
   "metadata": {},
   "outputs": [],
   "source": [
    "# your code here\n",
    "\n",
    "student_data = ..."
   ]
  },
  {
   "cell_type": "raw",
   "id": "42ceef11-29dc-4c35-a2df-d642dc92a296",
   "metadata": {
    "deletable": false,
    "editable": false,
    "jupyter": {
     "source_hidden": true
    },
    "tags": []
   },
   "source": [
    "student_data = student_data.drop(['Mjob', 'Fjob', 'paid', 'romantic'], axis=1)"
   ]
  },
  {
   "cell_type": "markdown",
   "id": "b7845aa8-1ff3-441d-9c05-3d356050cd5c",
   "metadata": {
    "deletable": false,
    "editable": false,
    "tags": []
   },
   "source": [
    "Check again whether data is missing."
   ]
  },
  {
   "cell_type": "code",
   "execution_count": null,
   "id": "3f2125a2-503a-4f9d-989f-08a29b9623ee",
   "metadata": {},
   "outputs": [],
   "source": [
    "# your code here\n"
   ]
  },
  {
   "cell_type": "raw",
   "id": "883083b5-5cfb-40a3-a2d6-2ddcd2e39c5e",
   "metadata": {
    "deletable": false,
    "editable": false,
    "jupyter": {
     "source_hidden": true
    },
    "tags": []
   },
   "source": [
    "student_data.isna().sum()"
   ]
  },
  {
   "cell_type": "markdown",
   "id": "1ca51f39-819c-4163-8064-63defe7b5f36",
   "metadata": {
    "deletable": false,
    "editable": false,
    "tags": []
   },
   "source": [
    "If you only see zeros, all is good. \n",
    "\n",
    "<img src=\"https://user-images.githubusercontent.com/7065401/52071924-c003ad80-2562-11e9-8297-1c6595f8a7ff.png\" width=2000/>"
   ]
  },
  {
   "cell_type": "markdown",
   "id": "adeaf3d7-8be9-4282-9894-4cc6a19c2455",
   "metadata": {
    "deletable": false,
    "editable": false,
    "tags": [],
    "toc-hr-collapsed": true
   },
   "source": [
    "## 7. Data Encoding\n",
    "\n",
    "We've already cleaned up the missing values, but now we face another problem: machine learning algorithms prefer numerical data to strings. We still have many features with string values, so we need to perform some type of **encoding** to map the strings to numbers. \n",
    "\n",
    "________________"
   ]
  },
  {
   "cell_type": "markdown",
   "id": "f3c3d046-6ddb-471b-8bd8-01a3fdfc17d6",
   "metadata": {
    "deletable": false,
    "editable": false,
    "tags": []
   },
   "source": [
    "### 7.1. **Exercise:** Categorical features\n",
    "\n",
    "**Make a list of all categorical columns in the data.**\n",
    "- You can use the `.select_dtypes()` [function](https://pandas.pydata.org/docs/reference/api/pandas.DataFrame.select_dtypes.html) with the parameter `include=`. \n",
    "- Columns with string values have the dtype 'object'.\n",
    "- `.columns` can be used to get a list of column names"
   ]
  },
  {
   "cell_type": "code",
   "execution_count": null,
   "id": "25080525-4f1d-4bb1-b4ad-4c8cdcceb970",
   "metadata": {},
   "outputs": [],
   "source": [
    "# your code here\n",
    "\n",
    "categorical_columns = ..."
   ]
  },
  {
   "cell_type": "raw",
   "id": "f8d78d4a-fc57-4083-a656-cac41f3e5b29",
   "metadata": {
    "deletable": false,
    "editable": false,
    "jupyter": {
     "source_hidden": true
    },
    "tags": []
   },
   "source": [
    "categorical_columns = student_data.select_dtypes(include='object').columns"
   ]
  },
  {
   "cell_type": "code",
   "execution_count": null,
   "id": "45e231f3-3f47-4c8d-a4a8-370c2692fe7c",
   "metadata": {},
   "outputs": [],
   "source": [
    "categorical_columns        # should be an Index object with 14 column names"
   ]
  },
  {
   "cell_type": "markdown",
   "id": "564cc68e-ddab-44ea-9265-51d3e043b521",
   "metadata": {},
   "source": [
    "______________"
   ]
  },
  {
   "cell_type": "markdown",
   "id": "3f0e334a-35c9-48d6-b4cc-1b3baeb966b6",
   "metadata": {
    "deletable": false,
    "editable": false,
    "tags": []
   },
   "source": [
    "### 7.2. **Exercise:** Indicator variables\n",
    "\n",
    "Indicator variables are an easy way to encode your categorical features. For example, the binary variable `address` with the categories `U` and 'R' can be encoded with two binary indicator variables `address_U` and `address_R`. \n",
    "\n",
    "**Use the `pd.get_dummies()` [function](https://pandas.pydata.org/docs/reference/api/pandas.get_dummies.html) to create indicator variables for all categorical features.**\n",
    "- The `columns` parameter allows you to set a subset of the columns to get dummies from"
   ]
  },
  {
   "cell_type": "code",
   "execution_count": null,
   "id": "2d7f9b3b-7e53-4bba-8ce1-fc479c4ec63a",
   "metadata": {
    "tags": []
   },
   "outputs": [],
   "source": [
    "# your code here\n",
    "\n",
    "num_student_data = ..."
   ]
  },
  {
   "cell_type": "raw",
   "id": "b3cc29e4-214f-4f44-9c21-3d59def3817c",
   "metadata": {
    "deletable": false,
    "editable": false,
    "jupyter": {
     "source_hidden": true
    },
    "tags": []
   },
   "source": [
    "num_student_data = pd.get_dummies(student_data, columns=categorical_columns)"
   ]
  },
  {
   "cell_type": "markdown",
   "id": "d8ea48f9-34c7-4c78-a950-0c9bb80e186b",
   "metadata": {
    "deletable": false,
    "editable": false,
    "tags": []
   },
   "source": [
    "Let's take a look below. Do you notice anything?"
   ]
  },
  {
   "cell_type": "code",
   "execution_count": null,
   "id": "69bfdf93-4151-4d67-8fd1-9185d4ba2b19",
   "metadata": {
    "tags": []
   },
   "outputs": [],
   "source": [
    "num_student_data.head()"
   ]
  },
  {
   "cell_type": "markdown",
   "id": "6479bc52-3009-4053-a178-7c8e1093364e",
   "metadata": {
    "deletable": false,
    "editable": false,
    "tags": []
   },
   "source": [
    "The number of columns has increased because we have a new column for each category. \n",
    "\n",
    "However, **do we need all of them**? For features with two categories (e.g. `activities`), the two indicator variables are negations of each other, and as such contain the exact same information. This redundancy only takes up more memory, so let's try again.\n",
    "\n",
    "Try `pd.get_dummies()` again, but this time set `drop_first=True`. This parameter drops one of the categories (the first alphabetically) to remove redundancy."
   ]
  },
  {
   "cell_type": "code",
   "execution_count": null,
   "id": "c5b61792-5112-433a-abdd-abfc2fc2644e",
   "metadata": {},
   "outputs": [],
   "source": [
    "# your code here\n",
    "\n",
    "num_student_data = ..."
   ]
  },
  {
   "cell_type": "raw",
   "id": "e18e354c-87d4-4edf-b2b4-9dd9e7f6337f",
   "metadata": {
    "deletable": false,
    "editable": false,
    "jupyter": {
     "source_hidden": true
    },
    "tags": []
   },
   "source": [
    "num_student_data = pd.get_dummies(student_data, columns=categorical_columns, drop_first=True)"
   ]
  },
  {
   "cell_type": "code",
   "execution_count": null,
   "id": "ca447063-a8ec-4b8f-8d7b-2474baa6fdcf",
   "metadata": {},
   "outputs": [],
   "source": [
    "num_student_data.head()"
   ]
  },
  {
   "cell_type": "markdown",
   "id": "6d9d9ff4-5bcb-47c5-ac56-ebe377589448",
   "metadata": {
    "deletable": false,
    "editable": false,
    "tags": []
   },
   "source": [
    "Back to 30 columns.\n",
    "\n",
    "_____________________"
   ]
  },
  {
   "cell_type": "markdown",
   "id": "4edc9c45-2725-467f-a0bb-297fc93a2666",
   "metadata": {
    "deletable": false,
    "editable": false,
    "tags": []
   },
   "source": [
    "### 7.3. **Exercise:** Correlation\n",
    "\n",
    "The correlation coefficient is a value between -1 and 1. \n",
    "- A coefficient of 0 means that the two variables are not correlated, that is, we can't draw conclusions about one variable if we know the other.\n",
    "- Coefficients >0 denote a positive correlation, meaning that an increase in one variable is connected to an increase in the other variable. A value of 1 means the variables are exactly equal.\n",
    "- Coefficients <0 denote a negative correlation, meaning that an increase in one variable is connected to a decrease in the other variable. \n",
    "\n",
    "Now that we have all-numerical data, we can perform a correlation check. This check will tell us whether a (linear) relationship exists between each pair of features, and can help us reduce the number of features (if two features are very similar, a model using one of them is usually just as expressive).\n",
    "\n",
    "**Calculate the correlation of `num_student_data`.**"
   ]
  },
  {
   "cell_type": "code",
   "execution_count": null,
   "id": "733d0205-abb7-4285-b554-256664f61962",
   "metadata": {},
   "outputs": [],
   "source": [
    "# your code here\n",
    "\n",
    "correlation = ..."
   ]
  },
  {
   "cell_type": "raw",
   "id": "2072c046-1017-4f53-ae6c-164d2d50df98",
   "metadata": {
    "deletable": false,
    "editable": false,
    "jupyter": {
     "source_hidden": true
    },
    "tags": []
   },
   "source": [
    "correlation = num_student_data.corr()"
   ]
  },
  {
   "cell_type": "markdown",
   "id": "c404c85d-ba99-4904-8a6d-04d14f9e2ac8",
   "metadata": {
    "deletable": false,
    "editable": false,
    "tags": []
   },
   "source": [
    "**Plot the correlation matrix using a [heatmap](https://seaborn.pydata.org/generated/seaborn.heatmap.html).** \n",
    "\n",
    "- The figure size is set for you.\n",
    "- To see the correlation coefficient in each cell, set `annot=True`.\n",
    "- To set the highest and lowest values for correlation, set `vmin=-1` and `vmax=1`\n",
    "- Optional, but improves the visual - round all values in the correlation matrix to two decimals with `.round(decimals=2)`"
   ]
  },
  {
   "cell_type": "code",
   "execution_count": null,
   "id": "b5d0c605-eaec-484b-b6fb-013605479b72",
   "metadata": {},
   "outputs": [],
   "source": [
    "plt.figure(figsize=(25,20))\n",
    "\n",
    "# your code here\n"
   ]
  },
  {
   "cell_type": "raw",
   "id": "8c2cd1cc-bd7b-41cb-8223-96755467fddf",
   "metadata": {
    "deletable": false,
    "editable": false,
    "jupyter": {
     "source_hidden": true
    },
    "tags": []
   },
   "source": [
    "sns.heatmap(correlation.round(decimals=2), annot=True, vmin=-1, vmax=1)"
   ]
  },
  {
   "cell_type": "markdown",
   "id": "1c1ef615-0f29-4064-989f-afc2a115f189",
   "metadata": {
    "deletable": false,
    "editable": false,
    "tags": []
   },
   "source": [
    "Several things to notice:\n",
    "\n",
    "- The diagonal is all ones, because every feature is perfectly correlated with itself,\n",
    "- The weekday alcohol consumption (`Dalc`) and the weekend alcohol consuption (`Walc`) have a strong positive correlation (0.62). Frequency of going out (`goout`) is positively correlated to `Dalc`. So students that drink during the week go out more :D\n",
    "- Wanting to go to university (`higher_yes`) and studying more (`studytime`) are positively correlated with the final grade (`G3`),\n",
    "- The number of failures is negatively correlated with the final grade (`G3`),\n",
    "\n",
    "and so on.\n",
    " \n",
    "\n",
    "<img src=\"https://user-images.githubusercontent.com/7065401/52071924-c003ad80-2562-11e9-8297-1c6595f8a7ff.png\" width=2000/>"
   ]
  },
  {
   "cell_type": "markdown",
   "id": "2f5fe6a4-3fcb-4b06-a293-dd28a7df280d",
   "metadata": {
    "deletable": false,
    "editable": false,
    "tags": []
   },
   "source": [
    "## 8. Predictive Modelling\n",
    "\n",
    "Now that our data is numerical, we can think about what we want to predict - the students' performance in the form of their final grade `G3`.\n",
    "\n",
    "------\n"
   ]
  },
  {
   "cell_type": "markdown",
   "id": "66f3a7a6-e5b5-4fa8-a311-dbf3208370b2",
   "metadata": {
    "deletable": false,
    "editable": false,
    "tags": []
   },
   "source": [
    "### 8.1. **Exercise:** Features and labels\n",
    "\n",
    "**Define the features and labels from the `num_student_data` DataFrame.**"
   ]
  },
  {
   "cell_type": "code",
   "execution_count": null,
   "id": "308970b2-9fa3-4614-86b1-b9fa501b66d1",
   "metadata": {},
   "outputs": [],
   "source": [
    "# your code here\n",
    "\n",
    "labels = ...\n",
    "features = ..."
   ]
  },
  {
   "cell_type": "raw",
   "id": "01000507-a798-4c96-8ff4-feeb1b10594a",
   "metadata": {
    "deletable": false,
    "editable": false,
    "jupyter": {
     "source_hidden": true
    },
    "tags": []
   },
   "source": [
    "labels = num_student_data['G3']\n",
    "features = num_student_data.drop('G3', axis=1)"
   ]
  },
  {
   "cell_type": "markdown",
   "id": "00067e53-967d-4dbe-b5d9-26a46b39fb45",
   "metadata": {},
   "source": [
    "___________"
   ]
  },
  {
   "cell_type": "markdown",
   "id": "f62b99ac-d69d-4538-845c-9a005aabf239",
   "metadata": {
    "deletable": false,
    "editable": false,
    "tags": []
   },
   "source": [
    "### 8.2. **Exercise:** Train and test data\n",
    "\n",
    "**Split the data set into train and test data, using the default parameters.** \n",
    "\n",
    "- Set the `random_state` to 42. "
   ]
  },
  {
   "cell_type": "code",
   "execution_count": null,
   "id": "b16bfbc0-ffe7-4135-8a49-e6fe2df66130",
   "metadata": {},
   "outputs": [],
   "source": [
    "from sklearn.model_selection import train_test_split"
   ]
  },
  {
   "cell_type": "code",
   "execution_count": null,
   "id": "6f82bc6b-d36f-49cc-a814-fd917a1e47bb",
   "metadata": {},
   "outputs": [],
   "source": [
    "# your code here\n",
    "\n",
    "X_train, X_test, y_train, y_test = ..."
   ]
  },
  {
   "cell_type": "raw",
   "id": "c33dde1a-4ea6-4f85-b701-89c33d3dcb0e",
   "metadata": {
    "deletable": false,
    "editable": false,
    "jupyter": {
     "source_hidden": true
    },
    "tags": []
   },
   "source": [
    "X_train, X_test, y_train, y_test = train_test_split(features, labels, random_state=42)"
   ]
  },
  {
   "cell_type": "markdown",
   "id": "4adf0ff9-280b-4806-b558-13d64dd2f564",
   "metadata": {},
   "source": [
    "Let's check the shapes of these new matrices."
   ]
  },
  {
   "cell_type": "code",
   "execution_count": null,
   "id": "64b4bf55-e7e3-48be-b017-b25c07bc11d6",
   "metadata": {
    "deletable": false,
    "editable": false,
    "tags": []
   },
   "outputs": [],
   "source": [
    "print('X_train: ', X_train.shape)\n",
    "print('X_test:  ', X_test.shape)\n",
    "print('y_train:  ', y_train.shape)\n",
    "print('y_test:  ', y_test.shape)"
   ]
  },
  {
   "cell_type": "markdown",
   "id": "2e006b24-c7e9-4bec-a1be-752cbc753344",
   "metadata": {
    "deletable": false,
    "editable": false,
    "tags": []
   },
   "source": [
    "We now have our train and test data. The next step is choosing a model for the task.\n",
    "\n",
    "`G3` is an continuous numerical variable with the range $[0, 20]$. In the Intro notebook, we predicted a binary **class** (good/bad risk). This time, we're solving a **regression** problem. \n",
    "\n",
    "**Classification** is the task of predicting a discrete class label. **Regression** is the task of predicting a continuous quantity.\n",
    "\n",
    "______________________"
   ]
  },
  {
   "cell_type": "markdown",
   "id": "7d3e21b8-3508-470a-9ebb-20edc5ae327e",
   "metadata": {
    "deletable": false,
    "editable": false,
    "tags": []
   },
   "source": [
    "### 8.3. **Exercise:** Standardization\n",
    "\n",
    "Standardization works independently on each feature, by removing the mean and scaling to unit variance:\n",
    "\n",
    "$$\\text{new_value} = \\frac{\\text{old_value} - \\text{mean}}{\\text{stand. dev.}} $$\n",
    "\n",
    "This step is a common requirement for many machine learning estimators: they might behave badly if the individual features do not more or less look like standard normally distributed data (e.g. Gaussian with 0 mean and unit variance).\n",
    "\n",
    "**Use the `StandardScaler()` to standardize all features to mean 0 and standard deviation 1.** \n"
   ]
  },
  {
   "cell_type": "code",
   "execution_count": null,
   "id": "c8b059c2-7bea-40df-ba64-dbfb1e03a968",
   "metadata": {
    "deletable": false,
    "editable": false,
    "tags": []
   },
   "outputs": [],
   "source": [
    "from sklearn.preprocessing import StandardScaler"
   ]
  },
  {
   "cell_type": "code",
   "execution_count": null,
   "id": "a9320063-c861-4b1f-a71f-b5a35fd1bf1a",
   "metadata": {},
   "outputs": [],
   "source": [
    "# your code here\n",
    "\n",
    "scaler = ...            # create a scaler instance and fit it to the training data"
   ]
  },
  {
   "cell_type": "raw",
   "id": "47eb099e-512f-45d5-b367-36b5e8428a3b",
   "metadata": {
    "deletable": false,
    "editable": false,
    "jupyter": {
     "source_hidden": true
    },
    "tags": []
   },
   "source": [
    "scaler = StandardScaler().fit(X_train)"
   ]
  },
  {
   "cell_type": "markdown",
   "id": "29fd6499-533e-46e1-8963-4ce6d44ea7f5",
   "metadata": {
    "deletable": false,
    "editable": false,
    "tags": []
   },
   "source": [
    "**Transform the train and test data with the learned scaler.**"
   ]
  },
  {
   "cell_type": "code",
   "execution_count": null,
   "id": "85662d87-2f19-4d26-a38e-0f1c91ce5cd4",
   "metadata": {},
   "outputs": [],
   "source": [
    "# your code here\n",
    "\n",
    "X_train_std = ...\n",
    "X_test_std = ..."
   ]
  },
  {
   "cell_type": "raw",
   "id": "abac0120-7750-4564-b3e6-f69a20a91dc5",
   "metadata": {
    "deletable": false,
    "editable": false,
    "jupyter": {
     "source_hidden": true
    },
    "tags": []
   },
   "source": [
    "X_train_std = scaler.transform(X_train)\n",
    "X_test_std = scaler.transform(X_test)"
   ]
  },
  {
   "cell_type": "markdown",
   "id": "20d09a21-0ee2-476d-af43-559910b79165",
   "metadata": {
    "deletable": false,
    "editable": false,
    "tags": []
   },
   "source": [
    "**Convert them back to a DataFrame, using `X_train.columns` as columns.**"
   ]
  },
  {
   "cell_type": "code",
   "execution_count": null,
   "id": "6d3b6e80-ea8d-4770-9303-988b490d7016",
   "metadata": {},
   "outputs": [],
   "source": [
    "# your code here\n",
    "\n",
    "X_train_std = ...\n",
    "X_test_std = ..."
   ]
  },
  {
   "cell_type": "raw",
   "id": "9251d488-65ea-4e1c-9151-d3d35348bb42",
   "metadata": {
    "deletable": false,
    "editable": false,
    "jupyter": {
     "source_hidden": true
    },
    "tags": []
   },
   "source": [
    "X_train_std = pd.DataFrame(X_train_std, columns=X_train.columns)\n",
    "X_test_std = pd.DataFrame(X_test_std, columns=X_train.columns)"
   ]
  },
  {
   "cell_type": "markdown",
   "id": "bcc2fc82-aa98-4e10-9bb1-8a3e9b32dccc",
   "metadata": {},
   "source": [
    "________________________"
   ]
  },
  {
   "cell_type": "markdown",
   "id": "809c930b-7a5f-4912-83d9-3caf9002c1f2",
   "metadata": {
    "deletable": false,
    "tags": []
   },
   "source": [
    "### 8.4. **Exercise:** Model fitting\n",
    "\n",
    "**Fit a `Ridge` linear regressor to the standardized data** \n",
    "\n",
    "- Set the `random_state` to 42. "
   ]
  },
  {
   "cell_type": "code",
   "execution_count": null,
   "id": "d6d483e1-7691-4f26-81ff-7d873a0987de",
   "metadata": {
    "deletable": false,
    "editable": false,
    "tags": []
   },
   "outputs": [],
   "source": [
    "from sklearn.linear_model import Ridge"
   ]
  },
  {
   "cell_type": "code",
   "execution_count": null,
   "id": "f0789fb9-8232-4bf4-9e4f-52c78c3bfa78",
   "metadata": {},
   "outputs": [],
   "source": [
    "# your code here\n",
    "\n",
    "ridge = ..."
   ]
  },
  {
   "cell_type": "raw",
   "id": "26b54b87-cee6-45e9-ba14-d0adabcf8a36",
   "metadata": {
    "deletable": false,
    "editable": false,
    "jupyter": {
     "source_hidden": true
    },
    "tags": []
   },
   "source": [
    "ridge = Ridge(random_state=42).fit(X_train_std, y_train)"
   ]
  },
  {
   "cell_type": "markdown",
   "id": "7fe821dd-315b-4545-a09b-0d60c951872a",
   "metadata": {
    "deletable": false,
    "editable": false,
    "tags": []
   },
   "source": [
    "**Fit a Support Vector Regression (`SVR`) model to the standardized data `X_train_std`.** \n",
    "\n",
    "- Set the regularization parameter `C` to 2. "
   ]
  },
  {
   "cell_type": "code",
   "execution_count": null,
   "id": "e4d9bb10-695c-4467-b6c5-6355ca1c6156",
   "metadata": {
    "deletable": false,
    "editable": false,
    "tags": []
   },
   "outputs": [],
   "source": [
    "from sklearn.svm import SVR"
   ]
  },
  {
   "cell_type": "code",
   "execution_count": null,
   "id": "64bf3d33-8c45-465d-b8f6-5e66a90f1879",
   "metadata": {},
   "outputs": [],
   "source": [
    "# your code here\n",
    "\n",
    "svr = ..."
   ]
  },
  {
   "cell_type": "raw",
   "id": "8d56f5ed-5157-4457-b3f3-665d1733c860",
   "metadata": {
    "deletable": false,
    "editable": false,
    "jupyter": {
     "source_hidden": true
    },
    "tags": []
   },
   "source": [
    "svr = SVR(C=2).fit(X_train_std, y_train)"
   ]
  },
  {
   "cell_type": "markdown",
   "id": "94c4c1eb-5464-45be-a8d7-dc678726f7c5",
   "metadata": {
    "deletable": false,
    "editable": false,
    "tags": []
   },
   "source": [
    "**Fit a `Random Forest` model to the standardized data `X_train_std`.** \n",
    "\n",
    "- Set the `random_state` to 42. "
   ]
  },
  {
   "cell_type": "code",
   "execution_count": null,
   "id": "ff74076c-1cc4-4fac-8ef6-4f18f2893a53",
   "metadata": {
    "deletable": false,
    "editable": false,
    "tags": []
   },
   "outputs": [],
   "source": [
    "from sklearn.ensemble import RandomForestRegressor"
   ]
  },
  {
   "cell_type": "code",
   "execution_count": null,
   "id": "f2510996-ce19-4399-83b6-9dc4d614856e",
   "metadata": {},
   "outputs": [],
   "source": [
    "# your code here\n",
    "\n",
    "rforest = ..."
   ]
  },
  {
   "cell_type": "raw",
   "id": "81ef7b85-3ffc-40a2-8c26-b35a60d07b22",
   "metadata": {
    "deletable": false,
    "editable": false,
    "jupyter": {
     "source_hidden": true
    },
    "tags": []
   },
   "source": [
    "rforest = RandomForestRegressor(random_state=42).fit(X_train_std, y_train)"
   ]
  },
  {
   "cell_type": "markdown",
   "id": "cc866b75-d745-43bc-8a40-3a5f344e8d1e",
   "metadata": {},
   "source": [
    "________________"
   ]
  },
  {
   "cell_type": "markdown",
   "id": "3cd45622-d2c9-426a-9b80-80e73bd6c2ea",
   "metadata": {
    "deletable": false,
    "editable": false,
    "tags": []
   },
   "source": [
    "### 8.5. **Exercise:** Evaluation\n",
    "\n",
    "**Evaluate all three models on the train and test data.** \n",
    "\n",
    "One of the most common evaluation metrics for regression is the [coefficient of determination](https://en.wikipedia.org/wiki/Coefficient_of_determination) $R^2$. It tells us how well the target variable can be predicted from the given features. The best possible $R^2$ is 1.0, or 100%. However, whether an $R^2$ score is 'good enough' is dependent on the problem. Since a model may be arbitrarily worse than perfect, negative values for the $R^2$ are also possible.\n",
    "\n",
    "- You are given the `score_model` function that returns a dictionary of results, and the `models` dictionary that saves the results of all three models."
   ]
  },
  {
   "cell_type": "code",
   "execution_count": null,
   "id": "fbc7862c-5624-4f78-8668-71982f20a097",
   "metadata": {
    "deletable": false,
    "editable": false,
    "tags": []
   },
   "outputs": [],
   "source": [
    "def score_model(model):\n",
    "    return {'train': model.score(X_train_std, y_train), 'test': model.score(X_test_std, y_test)}"
   ]
  },
  {
   "cell_type": "code",
   "execution_count": null,
   "id": "fa4e693c-668a-4a9b-b5ec-dcbeada3e7e9",
   "metadata": {
    "deletable": false,
    "editable": false,
    "tags": []
   },
   "outputs": [],
   "source": [
    "models = {'ridge': score_model(ridge),\n",
    "          'svr': score_model(svr),\n",
    "          'rforest': score_model(rforest)}"
   ]
  },
  {
   "cell_type": "markdown",
   "id": "979f73bc-cda6-42a3-885e-a16a57d7373d",
   "metadata": {},
   "source": [
    "**Convert `models` into a DataFrame and print it. What can you tell from the $R^2$ values?**"
   ]
  },
  {
   "cell_type": "code",
   "execution_count": null,
   "id": "8383ea47-3570-4eec-9c96-b71b8ed213c4",
   "metadata": {},
   "outputs": [],
   "source": [
    "# your code here\n",
    "\n",
    "results_df = ..."
   ]
  },
  {
   "cell_type": "raw",
   "id": "1975edf3-d94e-46f0-89d7-8c72aa286b90",
   "metadata": {
    "deletable": false,
    "editable": false,
    "jupyter": {
     "source_hidden": true
    },
    "tags": []
   },
   "source": [
    "results_df = pd.DataFrame(models)"
   ]
  },
  {
   "cell_type": "code",
   "execution_count": null,
   "id": "0a9809e5-6cac-4973-bfca-94d98d6814be",
   "metadata": {},
   "outputs": [],
   "source": [
    "results_df"
   ]
  },
  {
   "cell_type": "markdown",
   "id": "509c2c8f-ad33-4377-8a57-1d650c65e7ac",
   "metadata": {},
   "source": [
    "Your notes here:\n",
    "\n",
    "- "
   ]
  },
  {
   "cell_type": "markdown",
   "id": "2dacd8a6-635d-41bf-a5d8-a5897c5869a7",
   "metadata": {
    "deletable": false,
    "editable": false,
    "tags": []
   },
   "source": [
    "Example: \n",
    "\n",
    "- The train $R^2$ is higher than the test $R^2$ for all models. This is normal since the models learned on the train data, while the test data the saw for the first time.\n",
    "- SVR has the best performance on the test data, but still rather low."
   ]
  },
  {
   "cell_type": "markdown",
   "id": "52de9ff7-3af6-443c-845c-340cfa4107b6",
   "metadata": {},
   "source": [
    "______________"
   ]
  },
  {
   "cell_type": "markdown",
   "id": "2882d12a-a42f-498a-a0a9-4a21076047e6",
   "metadata": {
    "deletable": false,
    "editable": false,
    "tags": []
   },
   "source": [
    "### 8.6. **Exercise:** Visualizing predictions\n",
    "\n",
    "**Use the `SVR` model's `.predict()` function to obtain the actual grade predictions for the test set `X_test_std`.**"
   ]
  },
  {
   "cell_type": "code",
   "execution_count": null,
   "id": "819171d4-eeb2-4b7b-b0b3-5d96f6229114",
   "metadata": {},
   "outputs": [],
   "source": [
    "# your code here\n",
    "\n",
    "svr_test_predictions = ..."
   ]
  },
  {
   "cell_type": "raw",
   "id": "79500839-a0d6-4bff-841c-5285e59283b4",
   "metadata": {
    "deletable": false,
    "editable": false,
    "jupyter": {
     "source_hidden": true
    },
    "tags": []
   },
   "source": [
    "svr_test_predictions = svr.predict(X_test_std)"
   ]
  },
  {
   "cell_type": "markdown",
   "id": "1922efea-3705-4da9-8502-da9e7b9199d0",
   "metadata": {
    "deletable": false,
    "editable": false,
    "tags": []
   },
   "source": [
    "**Create a DataFrame with the true test labels `y_test` and the predictions as columns.**"
   ]
  },
  {
   "cell_type": "raw",
   "id": "96f438e1-f0f2-4e44-a89f-f32b49362671",
   "metadata": {},
   "source": [
    "# your code here\n",
    "\n",
    "predictions_df = ...                 # convert y_test to DataFrame\n",
    "...                                  # add column with svr predictions\n",
    "...                                  # show some predictions"
   ]
  },
  {
   "cell_type": "raw",
   "id": "8aad8dbf-ca56-493f-b090-49b155571892",
   "metadata": {
    "deletable": false,
    "editable": false,
    "jupyter": {
     "source_hidden": true
    },
    "tags": []
   },
   "source": [
    "predictions_df = pd.DataFrame(y_test)                 # convert y_test to DataFrame\n",
    "predictions_df['svr'] = svr_test_predictions          # add column with svr predictions\n",
    "predictions_df.head()                                 # show some predictions"
   ]
  },
  {
   "cell_type": "code",
   "execution_count": null,
   "id": "7227d194-5f42-4962-b4a0-70016f5d0094",
   "metadata": {},
   "outputs": [],
   "source": [
    "plt.figure(figsize=(20,6))\n",
    "sns.lineplot(data=predictions_df)    # for lines\n",
    "sns.scatterplot(data=predictions_df) # for dots and crosses"
   ]
  },
  {
   "cell_type": "markdown",
   "id": "79464230-6b2a-41a1-b10c-fc498a278c2e",
   "metadata": {
    "deletable": false,
    "editable": false,
    "tags": []
   },
   "source": [
    "The model is not the worst, but tends to predict values around the mean of the training data. The model can't predict failures and high marks.\n",
    "\n",
    "__________________________"
   ]
  },
  {
   "cell_type": "markdown",
   "id": "6dc136c9-f3b0-46ab-8f58-34f2f0f0e8b2",
   "metadata": {
    "deletable": false,
    "editable": false,
    "tags": []
   },
   "source": [
    "## Conclusion\n",
    "\n",
    "There are many ways to improve on these results, including [hyperparameter optimization](https://machinelearningmastery.com/hyperparameter-optimization-with-random-search-and-grid-search/), or trying out different regression models. \n",
    "\n",
    "At the end of the day, however, model selection is a question of finding a **good** model for a given task or data set, not necessarily a perfect one.\n",
    "\n",
    "Thank you for participating in this workshop, we hope you had fun!\n",
    "\n",
    "\n",
    "________________________"
   ]
  },
  {
   "cell_type": "markdown",
   "id": "37e8dc73",
   "metadata": {},
   "source": [
    "## Useful Links\n",
    "\n",
    "|Desc||Link|\n",
    "|---|--|----|\n",
    "`pandas` Cheat Sheet | https://pandas.pydata.org/Pandas_Cheat_Sheet.pdf\n",
    "`pandas` Docs | https://pandas.pydata.org/docs/reference/index.html\n",
    "ML algorithm Cheat Sheet | https://scikit-learn.org/stable/tutorial/machine_learning_map/index.html\n",
    "ML tutorial | https://scikit-learn.org/stable/tutorial/"
   ]
  },
  {
   "cell_type": "markdown",
   "id": "61bed8a9-5b99-4f4c-a38c-3d6baf6e6398",
   "metadata": {
    "deletable": false,
    "editable": false,
    "tags": []
   },
   "source": [
    "Author: Lyuba Dimitrova, 07/2022"
   ]
  }
 ],
 "metadata": {
  "kernelspec": {
   "display_name": "Python 3 (ipykernel)",
   "language": "python",
   "name": "python3"
  },
  "language_info": {
   "codemirror_mode": {
    "name": "ipython",
    "version": 3
   },
   "file_extension": ".py",
   "mimetype": "text/x-python",
   "name": "python",
   "nbconvert_exporter": "python",
   "pygments_lexer": "ipython3",
   "version": "3.10.4"
  },
  "toc": {
   "base_numbering": 1,
   "nav_menu": {},
   "number_sections": true,
   "sideBar": true,
   "skip_h1_title": true,
   "title_cell": "Table of Contents",
   "title_sidebar": "Contents",
   "toc_cell": false,
   "toc_position": {
    "height": "calc(100% - 180px)",
    "left": "10px",
    "top": "150px",
    "width": "370.797px"
   },
   "toc_section_display": true,
   "toc_window_display": true
  },
  "toc-autonumbering": false,
  "toc-showcode": false,
  "toc-showmarkdowntxt": false,
  "toc-showtags": false
 },
 "nbformat": 4,
 "nbformat_minor": 5
}
